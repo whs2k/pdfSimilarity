{
 "cells": [
  {
   "cell_type": "code",
   "execution_count": 1,
   "metadata": {},
   "outputs": [],
   "source": [
    "import textract\n",
    "import os\n",
    "import glob\n",
    "import pandas as pd\n",
    "import spacy #conda install -c conda-forge spacy\n",
    "from spacy.lang.en import English\n",
    "nlp = spacy.load(\"en\")\n",
    "from scipy import spatial\n",
    "import seaborn as sns\n",
    "#from spacy.en import English"
   ]
  },
  {
   "cell_type": "code",
   "execution_count": 2,
   "metadata": {},
   "outputs": [
    {
     "data": {
      "text/plain": [
       "'\\n1. Get User Input of Folder with Pdfs\\n2. Glob in pdfs and Transform pdfs to text\\n3. Spacy Texts and Create w2v transformations\\n4. Create Cosine Distance Matrix\\n'"
      ]
     },
     "execution_count": 2,
     "metadata": {},
     "output_type": "execute_result"
    }
   ],
   "source": [
    "'''\n",
    "1. Get User Input of Folder with Pdfs\n",
    "2. Glob in pdfs and Transform pdfs to text\n",
    "3. Spacy Texts and Create w2v transformations\n",
    "4. Create Cosine Distance Matrix\n",
    "'''"
   ]
  },
  {
   "cell_type": "markdown",
   "metadata": {},
   "source": [
    "# 1. Input Folder of pdfs"
   ]
  },
  {
   "cell_type": "code",
   "execution_count": 2,
   "metadata": {},
   "outputs": [
    {
     "name": "stdout",
     "output_type": "stream",
     "text": [
      "/Users/wsolomon/Documents/GitHub/pdfSimilarity/pdfFolder/*.pdf\n"
     ]
    }
   ],
   "source": [
    "relative_folder_path = 'pdfFolder'\n",
    "pattern = os.path.join(os.getcwd(),relative_folder_path,'*.pdf')\n",
    "print(pattern)"
   ]
  },
  {
   "cell_type": "markdown",
   "metadata": {},
   "source": [
    "# 2. Glob Files Together and Read Text"
   ]
  },
  {
   "cell_type": "code",
   "execution_count": 5,
   "metadata": {},
   "outputs": [
    {
     "name": "stdout",
     "output_type": "stream",
     "text": [
      "./pdfFolder/Slate Article Submission_Shakespeare and Skyscrapers_31May2017.pdf\n",
      "./pdfFolder/CyberSecurity_ROI Essay_WHS_ver2.pdf\n",
      "./pdfFolder/FinalPaper_Solomon_ver2.pdf\n",
      "./pdfFolder/Sadybakasov_Alymbek_SotckFish.pdf\n",
      "./pdfFolder/CyberSecurity_Backdoor Essay_WHS.pdf\n"
     ]
    },
    {
     "data": {
      "text/html": [
       "<div>\n",
       "<style scoped>\n",
       "    .dataframe tbody tr th:only-of-type {\n",
       "        vertical-align: middle;\n",
       "    }\n",
       "\n",
       "    .dataframe tbody tr th {\n",
       "        vertical-align: top;\n",
       "    }\n",
       "\n",
       "    .dataframe thead th {\n",
       "        text-align: right;\n",
       "    }\n",
       "</style>\n",
       "<table border=\"1\" class=\"dataframe\">\n",
       "  <thead>\n",
       "    <tr style=\"text-align: right;\">\n",
       "      <th></th>\n",
       "      <th>labels</th>\n",
       "      <th>text</th>\n",
       "    </tr>\n",
       "  </thead>\n",
       "  <tbody>\n",
       "    <tr>\n",
       "      <th>0</th>\n",
       "      <td>0</td>\n",
       "      <td>Richard II and the Skyscraper Theory of Bubble...</td>\n",
       "    </tr>\n",
       "    <tr>\n",
       "      <th>1</th>\n",
       "      <td>1</td>\n",
       "      <td>IS ROI/IRR/NPV A GOOD MEASURE FOR CYBERSECURIT...</td>\n",
       "    </tr>\n",
       "    <tr>\n",
       "      <th>2</th>\n",
       "      <td>2</td>\n",
       "      <td>Electricity Sector Reforms in ColombiaDevelopm...</td>\n",
       "    </tr>\n",
       "    <tr>\n",
       "      <th>3</th>\n",
       "      <td>3</td>\n",
       "      <td>Combining Monte-Carlo TreeSearch with state-of...</td>\n",
       "    </tr>\n",
       "    <tr>\n",
       "      <th>4</th>\n",
       "      <td>4</td>\n",
       "      <td>SHOULD WE REQUIRE SOFTWARE COMPANIES TO PROGRA...</td>\n",
       "    </tr>\n",
       "  </tbody>\n",
       "</table>\n",
       "</div>"
      ],
      "text/plain": [
       "   labels                                               text\n",
       "0       0  Richard II and the Skyscraper Theory of Bubble...\n",
       "1       1  IS ROI/IRR/NPV A GOOD MEASURE FOR CYBERSECURIT...\n",
       "2       2  Electricity Sector Reforms in ColombiaDevelopm...\n",
       "3       3  Combining Monte-Carlo TreeSearch with state-of...\n",
       "4       4  SHOULD WE REQUIRE SOFTWARE COMPANIES TO PROGRA..."
      ]
     },
     "execution_count": 5,
     "metadata": {},
     "output_type": "execute_result"
    }
   ],
   "source": [
    "pdfs = glob.glob('./pdfFolder/*.pdf')\n",
    "pdfs_column = []\n",
    "label_column =[]\n",
    "bad_stuff = ['/n']\n",
    "for pdf in enumerate(pdfs):\n",
    "    print(pdf[1])\n",
    "    textTest = textract.process(pdf[1]).replace('\\n',\"\")\n",
    "    pdfs_column.append(textTest)\n",
    "    label_column.append(pdf[0])\n",
    "\n",
    "df = pd.DataFrame({'labels': label_column, 'text': pdfs_column})\n",
    "df.head(10)"
   ]
  },
  {
   "cell_type": "markdown",
   "metadata": {},
   "source": [
    "# 3. spaCy and Vectorize Texts"
   ]
  },
  {
   "cell_type": "code",
   "execution_count": 6,
   "metadata": {},
   "outputs": [
    {
     "data": {
      "text/html": [
       "<div>\n",
       "<style scoped>\n",
       "    .dataframe tbody tr th:only-of-type {\n",
       "        vertical-align: middle;\n",
       "    }\n",
       "\n",
       "    .dataframe tbody tr th {\n",
       "        vertical-align: top;\n",
       "    }\n",
       "\n",
       "    .dataframe thead th {\n",
       "        text-align: right;\n",
       "    }\n",
       "</style>\n",
       "<table border=\"1\" class=\"dataframe\">\n",
       "  <thead>\n",
       "    <tr style=\"text-align: right;\">\n",
       "      <th></th>\n",
       "      <th>labels</th>\n",
       "      <th>text</th>\n",
       "      <th>vecs</th>\n",
       "    </tr>\n",
       "  </thead>\n",
       "  <tbody>\n",
       "    <tr>\n",
       "      <th>0</th>\n",
       "      <td>0</td>\n",
       "      <td>Richard II and the Skyscraper Theory of Bubble...</td>\n",
       "      <td>[0.11485395, 0.44388837, 0.28940865, 0.8409925...</td>\n",
       "    </tr>\n",
       "    <tr>\n",
       "      <th>1</th>\n",
       "      <td>1</td>\n",
       "      <td>IS ROI/IRR/NPV A GOOD MEASURE FOR CYBERSECURIT...</td>\n",
       "      <td>[0.46202022, 0.36182055, 0.1345899, 0.84745115...</td>\n",
       "    </tr>\n",
       "    <tr>\n",
       "      <th>2</th>\n",
       "      <td>2</td>\n",
       "      <td>Electricity Sector Reforms in ColombiaDevelopm...</td>\n",
       "      <td>[0.33343694, 0.35287502, 0.2474912, 0.8941736,...</td>\n",
       "    </tr>\n",
       "    <tr>\n",
       "      <th>3</th>\n",
       "      <td>3</td>\n",
       "      <td>Combining Monte-Carlo TreeSearch with state-of...</td>\n",
       "      <td>[0.31502566, 0.5353322, 0.54613346, 0.9820281,...</td>\n",
       "    </tr>\n",
       "    <tr>\n",
       "      <th>4</th>\n",
       "      <td>4</td>\n",
       "      <td>SHOULD WE REQUIRE SOFTWARE COMPANIES TO PROGRA...</td>\n",
       "      <td>[0.48115247, 0.3245384, 0.2563125, 1.0423548, ...</td>\n",
       "    </tr>\n",
       "  </tbody>\n",
       "</table>\n",
       "</div>"
      ],
      "text/plain": [
       "   labels                                               text  \\\n",
       "0       0  Richard II and the Skyscraper Theory of Bubble...   \n",
       "1       1  IS ROI/IRR/NPV A GOOD MEASURE FOR CYBERSECURIT...   \n",
       "2       2  Electricity Sector Reforms in ColombiaDevelopm...   \n",
       "3       3  Combining Monte-Carlo TreeSearch with state-of...   \n",
       "4       4  SHOULD WE REQUIRE SOFTWARE COMPANIES TO PROGRA...   \n",
       "\n",
       "                                                vecs  \n",
       "0  [0.11485395, 0.44388837, 0.28940865, 0.8409925...  \n",
       "1  [0.46202022, 0.36182055, 0.1345899, 0.84745115...  \n",
       "2  [0.33343694, 0.35287502, 0.2474912, 0.8941736,...  \n",
       "3  [0.31502566, 0.5353322, 0.54613346, 0.9820281,...  \n",
       "4  [0.48115247, 0.3245384, 0.2563125, 1.0423548, ...  "
      ]
     },
     "execution_count": 6,
     "metadata": {},
     "output_type": "execute_result"
    }
   ],
   "source": [
    "#Run in shell \"python -m spacy download en\"\n",
    "#nlp = spacy.load(\"en\")\n",
    "\n",
    "vecs = []\n",
    "for raw_text in pdfs_column:\n",
    "    doc = nlp(raw_text.decode('utf8'))\n",
    "    vecs.append(doc.vector)\n",
    "df['vecs'] = vecs\n",
    "df.head()\n"
   ]
  },
  {
   "cell_type": "markdown",
   "metadata": {},
   "source": [
    "# 4. Create Cross CosineDistance Matrix"
   ]
  },
  {
   "cell_type": "code",
   "execution_count": 7,
   "metadata": {},
   "outputs": [
    {
     "data": {
      "text/html": [
       "<div>\n",
       "<style scoped>\n",
       "    .dataframe tbody tr th:only-of-type {\n",
       "        vertical-align: middle;\n",
       "    }\n",
       "\n",
       "    .dataframe tbody tr th {\n",
       "        vertical-align: top;\n",
       "    }\n",
       "\n",
       "    .dataframe thead th {\n",
       "        text-align: right;\n",
       "    }\n",
       "</style>\n",
       "<table border=\"1\" class=\"dataframe\">\n",
       "  <thead>\n",
       "    <tr style=\"text-align: right;\">\n",
       "      <th></th>\n",
       "      <th>0</th>\n",
       "      <th>1</th>\n",
       "      <th>2</th>\n",
       "      <th>3</th>\n",
       "      <th>4</th>\n",
       "    </tr>\n",
       "  </thead>\n",
       "  <tbody>\n",
       "    <tr>\n",
       "      <th>0</th>\n",
       "      <td>0.000000</td>\n",
       "      <td>0.034657</td>\n",
       "      <td>0.025327</td>\n",
       "      <td>0.039611</td>\n",
       "      <td>0.076007</td>\n",
       "    </tr>\n",
       "    <tr>\n",
       "      <th>1</th>\n",
       "      <td>0.034657</td>\n",
       "      <td>0.000000</td>\n",
       "      <td>0.032206</td>\n",
       "      <td>0.052575</td>\n",
       "      <td>0.030119</td>\n",
       "    </tr>\n",
       "    <tr>\n",
       "      <th>2</th>\n",
       "      <td>0.025327</td>\n",
       "      <td>0.032206</td>\n",
       "      <td>0.000000</td>\n",
       "      <td>0.039383</td>\n",
       "      <td>0.070168</td>\n",
       "    </tr>\n",
       "    <tr>\n",
       "      <th>3</th>\n",
       "      <td>0.039611</td>\n",
       "      <td>0.052575</td>\n",
       "      <td>0.039383</td>\n",
       "      <td>0.000000</td>\n",
       "      <td>0.078875</td>\n",
       "    </tr>\n",
       "    <tr>\n",
       "      <th>4</th>\n",
       "      <td>0.076007</td>\n",
       "      <td>0.030119</td>\n",
       "      <td>0.070168</td>\n",
       "      <td>0.078875</td>\n",
       "      <td>0.000000</td>\n",
       "    </tr>\n",
       "  </tbody>\n",
       "</table>\n",
       "</div>"
      ],
      "text/plain": [
       "          0         1         2         3         4\n",
       "0  0.000000  0.034657  0.025327  0.039611  0.076007\n",
       "1  0.034657  0.000000  0.032206  0.052575  0.030119\n",
       "2  0.025327  0.032206  0.000000  0.039383  0.070168\n",
       "3  0.039611  0.052575  0.039383  0.000000  0.078875\n",
       "4  0.076007  0.030119  0.070168  0.078875  0.000000"
      ]
     },
     "execution_count": 7,
     "metadata": {},
     "output_type": "execute_result"
    }
   ],
   "source": [
    "cosDist_main = []\n",
    "#Create Cross Cosine Matrix:\n",
    "for vec1s in vecs:\n",
    "    cosDist_sub = []\n",
    "    for vec2s in vecs:\n",
    "        dist = spatial.distance.cosine(vec1s, vec2s)\n",
    "        cosDist_sub.append(dist)\n",
    "    cosDist_main.append(cosDist_sub)\n",
    "\n",
    "df_cos = pd.DataFrame(cosDist_main)\n",
    "df_cos.head()"
   ]
  },
  {
   "cell_type": "code",
   "execution_count": 8,
   "metadata": {},
   "outputs": [
    {
     "data": {
      "text/plain": [
       "<matplotlib.axes._subplots.AxesSubplot at 0x110b29150>"
      ]
     },
     "execution_count": 8,
     "metadata": {},
     "output_type": "execute_result"
    },
    {
     "data": {
      "image/png": "[encoded data removed]",
      "text/plain": [
       "<Figure size 432x288 with 2 Axes>"
      ]
     },
     "metadata": {},
     "output_type": "display_data"
    }
   ],
   "source": [
    "import seaborn as sns\n",
    "import matplotlib.pyplot as plt\n",
    "sns.heatmap(df_cos, annot=True)"
   ]
  },
  {
   "cell_type": "code",
   "execution_count": null,
   "metadata": {},
   "outputs": [],
   "source": []
  }
 ],
 "metadata": {
  "kernelspec": {
   "display_name": "Python 2",
   "language": "python",
   "name": "python2"
  },
  "language_info": {
   "codemirror_mode": {
    "name": "ipython",
    "version": 2
   },
   "file_extension": ".py",
   "mimetype": "text/x-python",
   "name": "python",
   "nbconvert_exporter": "python",
   "pygments_lexer": "ipython2",
   "version": "2.7.14"
  }
 },
 "nbformat": 4,
 "nbformat_minor": 2
}
